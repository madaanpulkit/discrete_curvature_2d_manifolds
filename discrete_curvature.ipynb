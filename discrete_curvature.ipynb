{
 "cells": [
  {
   "cell_type": "markdown",
   "metadata": {},
   "source": [
    "# Import"
   ]
  },
  {
   "cell_type": "code",
   "execution_count": 1,
   "metadata": {},
   "outputs": [],
   "source": [
    "import numpy as np\n",
    "import numpy.linalg as npla\n",
    "import sys"
   ]
  },
  {
   "cell_type": "markdown",
   "metadata": {},
   "source": [
    "# Helpers"
   ]
  },
  {
   "cell_type": "code",
   "execution_count": 2,
   "metadata": {},
   "outputs": [],
   "source": [
    "def get_angle(x_1, x_2):\n",
    "    \n",
    "    norm_1 = npla.norm(x_1, 2)\n",
    "    norm_2 = npla.norm(x_2, 2)\n",
    "    \n",
    "    dot_prod = np.dot(x_1, x_2)\n",
    "    angle = np.arccos(dot_prod / (norm_1 * norm_2))\n",
    "\n",
    "#     determ = npla.det(np.hstack((x_1.reshape(-1, 1), x_2.reshape(-1, 1))))\n",
    "#     if detrm > 0: \n",
    "#         angle = pi - angle\n",
    "    \n",
    "    return angle"
   ]
  },
  {
   "cell_type": "code",
   "execution_count": 3,
   "metadata": {
    "scrolled": true
   },
   "outputs": [],
   "source": [
    "def is_obtuse(v, t, verts, triangs):\n",
    "    \n",
    "    flag = 0\n",
    "    triang = triangs[t]\n",
    "    x_0, x_1, x_2 = (0, 0, 0)\n",
    "    \n",
    "    if triang[0] == v:\n",
    "        x_1 = np.array(verts[triang[0]])\n",
    "        x_2, x_3 = np.array(verts[triang[1]]), np.array(verts[triang[2]])\n",
    "    \n",
    "    if triang[1] == v:\n",
    "        x_1 = np.array(verts[triang[1]])\n",
    "        x_2, x_3 = np.array(verts[triang[0]]), np.array(verts[triang[2]])\n",
    "    \n",
    "    if triang[2] == v:\n",
    "        x_1 = np.array(verts[triang[2]])\n",
    "        x_2, x_3 = np.array(verts[triang[0]]), np.array(verts[triang[1]])\n",
    "    \n",
    "    theta_p = get_angle(x_1-x_2, x_1-x_3)\n",
    "    if theta_p > np.pi/2:\n",
    "        flag = 2\n",
    "    else:\n",
    "        theta_q, theta_r = get_angle(x_2-x_1, x_2-x_3), get_angle(x_3-x_1, x_3-x_2)\n",
    "        if theta_q > np.pi/2 or theta_r > np.pi/2:\n",
    "            flag = 1\n",
    "    \n",
    "    return flag"
   ]
  },
  {
   "cell_type": "code",
   "execution_count": 4,
   "metadata": {},
   "outputs": [],
   "source": [
    "def get_area(v, t, verts, triangs):\n",
    "    \n",
    "    area = 0\n",
    "    obtuse_flag = is_obtuse(v, t, verts, triangs)\n",
    "    \n",
    "    triang_v = triangs[t].copy()\n",
    "    \n",
    "    [v_alpha, v_beta] = np.copy(triang_v[triang_v != v])\n",
    "    \n",
    "    x = np.array(verts[v])\n",
    "    x_alpha = np.array(verts[v_alpha])\n",
    "    x_beta = np.array(verts[v_beta])\n",
    "        \n",
    "    if obtuse_flag == 0:\n",
    "        \n",
    "        area = 1/8*((npla.norm(x-x_beta, 2)**2)/np.tan(get_angle(x_alpha-x, x_alpha-x_beta)) + (npla.norm(x-x_alpha, 2)**2)/np.tan(get_angle(x_beta-x, x_beta-x_alpha)))\n",
    "    \n",
    "    else:\n",
    "        area = npla.norm(np.cross(x-x_alpha, x-x_beta), 2)/2\n",
    "        if obtuse_flag == 2:\n",
    "            area /= 2\n",
    "        else:\n",
    "            area /= 4\n",
    "    \n",
    "    return area\n",
    "    "
   ]
  },
  {
   "cell_type": "code",
   "execution_count": 5,
   "metadata": {},
   "outputs": [],
   "source": [
    "def get_A_mix(verts, triangs):\n",
    "    \n",
    "    A_mix = [0] * len(verts)\n",
    "\n",
    "    for v in range(len(verts)):\n",
    "        vert = v\n",
    "        for t in t_nghbr[v]:\n",
    "            A_mix[v] += get_area(v, t, verts, triangs)\n",
    "    \n",
    "    return A_mix"
   ]
  },
  {
   "cell_type": "code",
   "execution_count": 6,
   "metadata": {},
   "outputs": [],
   "source": [
    "def get_mean_curv_norm(A_mix, verts, triangs):\n",
    "    \n",
    "    mean_curv_norm = [0] * len(verts)\n",
    "        \n",
    "    for v in range(len(verts)):\n",
    "\n",
    "        vert = v\n",
    "        for t in t_nghbr[v]:\n",
    "            \n",
    "            triang_v = triangs[t].copy()\n",
    "            \n",
    "            [v_alpha, v_beta] = np.copy(triang_v[triang_v != v])\n",
    "            \n",
    "            x = np.array(verts[v])\n",
    "            x_alpha = np.array(verts[v_alpha])\n",
    "            x_beta = np.array(verts[v_beta])\n",
    "            \n",
    "            mean_curv_norm[v] += (x-x_beta)/np.tan(get_angle(x_alpha-x, x_alpha-x_beta)) + (x-x_alpha)/np.tan(get_angle(x_beta-x, x_beta-x_alpha))\n",
    "        \n",
    "        mean_curv_norm[v] /= 2*A_mix[v]\n",
    "    \n",
    "    return np.array(mean_curv_norm)  "
   ]
  },
  {
   "cell_type": "code",
   "execution_count": 7,
   "metadata": {},
   "outputs": [],
   "source": [
    "def get_gauss_curv(A_mix, verts, triangs):\n",
    "    \n",
    "    gauss_curv = [0] * len(verts)\n",
    "\n",
    "    for v in range(len(verts)):\n",
    "\n",
    "        vert = v\n",
    "\n",
    "        gauss_curv[v] = 2*np.pi\n",
    "\n",
    "        for t in t_nghbr[v]:\n",
    "\n",
    "            triang_v = triangs[t].copy()\n",
    "            \n",
    "            [v_alpha, v_beta] = np.copy(triang_v[triang_v != v])\n",
    "\n",
    "            x = np.array(verts[v])\n",
    "            x_alpha = np.array(verts[v_alpha])\n",
    "            x_beta = np.array(verts[v_beta])\n",
    "\n",
    "            gauss_curv[v] -= get_angle(x-x_alpha, x-x_beta)\n",
    "\n",
    "        gauss_curv[v] /= A_mix[v]\n",
    "\n",
    "    return np.array(gauss_curv)  "
   ]
  },
  {
   "cell_type": "code",
   "execution_count": 8,
   "metadata": {},
   "outputs": [],
   "source": [
    "def get_princ_curv(mean_curv, gauss_curv):\n",
    "    \n",
    "    h_curv = mean_curv\n",
    "    del_curv = (h_curv**2) - gauss_curv\n",
    "    del_curv[del_curv<0] = 0\n",
    "        \n",
    "    min_princ_curv = h_curv - np.sqrt(del_curv)\n",
    "    max_princ_curv = h_curv + np.sqrt(del_curv)\n",
    "    \n",
    "    return min_princ_curv, max_princ_curv"
   ]
  },
  {
   "cell_type": "code",
   "execution_count": 9,
   "metadata": {},
   "outputs": [],
   "source": [
    "def read_off(file):\n",
    "    file = open(file, 'r')\n",
    "    if 'OFF' != file.readline().strip():\n",
    "        raise('Not a valid OFF header')\n",
    "    n_verts, n_faces, n_dontknow = tuple([int(s) for s in file.readline().strip().split(' ')])\n",
    "    verts = [[float(s) for s in file.readline().strip().split(' ')] for i_vert in range(n_verts)]\n",
    "    faces = [[int(s) for s in file.readline().strip().split(' ')][1:] for i_face in range(n_faces)]\n",
    "    return verts, faces"
   ]
  },
  {
   "cell_type": "markdown",
   "metadata": {},
   "source": [
    "# Main"
   ]
  },
  {
   "cell_type": "markdown",
   "metadata": {},
   "source": [
    "## Loader"
   ]
  },
  {
   "cell_type": "code",
   "execution_count": 10,
   "metadata": {},
   "outputs": [],
   "source": [
    "verts, triangs = read_off('./surf_meshes/mother_19536/surface.off')\n",
    "# verts, triangs = np.loadtxt('./surf_meshes/sphere/2wcV.txt', dtype='float'), np.loadtxt('./surf_meshes/sphere/2wcT.txt', dtype='int')-1"
   ]
  },
  {
   "cell_type": "markdown",
   "metadata": {},
   "source": [
    "## Neighbour Vertices"
   ]
  },
  {
   "cell_type": "code",
   "execution_count": 11,
   "metadata": {},
   "outputs": [],
   "source": [
    "v_nghbr = []\n",
    "\n",
    "for i in range(len(verts)):\n",
    "    v_nghbr.append([])\n",
    "\n",
    "for i in range(len(triangs)):\n",
    "    \n",
    "    if not triangs[i][1] in v_nghbr[triangs[i][0]] and triangs[i][1] != triangs[i][0]:\n",
    "        v_nghbr[triangs[i][0]].append(triangs[i][1])\n",
    "    if not triangs[i][2] in v_nghbr[triangs[i][0]] and triangs[i][2] != triangs[i][0]:\n",
    "        v_nghbr[triangs[i][0]].append(triangs[i][2])\n",
    "    \n",
    "    if not triangs[i][0] in v_nghbr[triangs[i][1]] and triangs[i][0] != triangs[i][1]:\n",
    "        v_nghbr[triangs[i][1]].append(triangs[i][0])\n",
    "    if not triangs[i][2] in v_nghbr[triangs[i][1]] and triangs[i][2] != triangs[i][1]:\n",
    "        v_nghbr[triangs[i][1]].append(triangs[i][2])\n",
    "\n",
    "    if not triangs[i][0] in v_nghbr[triangs[i][2]] and triangs[i][0] != triangs[i][2]:\n",
    "        v_nghbr[triangs[i][2]].append(triangs[i][0])\n",
    "    if not triangs[i][1] in v_nghbr[triangs[i][2]] and triangs[i][1] != triangs[i][2]:\n",
    "        v_nghbr[triangs[i][2]].append(triangs[i][1])\n",
    "\n",
    "# for i in range(len(v_nghbr)):\n",
    "#     v_nghbr[i].sort()"
   ]
  },
  {
   "cell_type": "markdown",
   "metadata": {},
   "source": [
    "## Neighbour Triangles"
   ]
  },
  {
   "cell_type": "code",
   "execution_count": 12,
   "metadata": {},
   "outputs": [],
   "source": [
    "t_nghbr = []\n",
    "\n",
    "for i in range(len(verts)):\n",
    "    t_nghbr.append([])\n",
    "\n",
    "for i in range(len(triangs)):\n",
    "    \n",
    "    if triangs[i][0] == triangs[i][1] or triangs[i][1] == triangs[i][2] or triangs[i][0] == triangs[i][2]:\n",
    "        continue\n",
    "    \n",
    "    t_nghbr[triangs[i][0]].append(i)\n",
    "    t_nghbr[triangs[i][1]].append(i)\n",
    "    t_nghbr[triangs[i][2]].append(i)\n",
    "\n",
    "# for i in range(len(t_nghbr)):\n",
    "#     t_nghbr[i].sort()"
   ]
  },
  {
   "cell_type": "markdown",
   "metadata": {},
   "source": [
    "# Calc"
   ]
  },
  {
   "cell_type": "code",
   "execution_count": 13,
   "metadata": {},
   "outputs": [],
   "source": [
    "A_mix = get_A_mix(verts, triangs)\n",
    "\n",
    "mean_curv_norm = get_mean_curv_norm(A_mix, verts, triangs)\n",
    "\n",
    "mean_curv = npla.norm(mean_curv_norm, ord=2, axis=1)/2\n",
    "\n",
    "gauss_curv = get_gauss_curv(A_mix, verts, triangs)\n",
    "\n",
    "min_princ_curv, max_princ_curv = get_princ_curv(mean_curv, gauss_curv)"
   ]
  },
  {
   "cell_type": "markdown",
   "metadata": {},
   "source": [
    "## Save"
   ]
  },
  {
   "cell_type": "code",
   "execution_count": 14,
   "metadata": {},
   "outputs": [],
   "source": [
    "np.save('K_H.npy', mean_curv)\n",
    "np.save('K_G.npy', gauss_curv)\n",
    "np.save('K_1.npy', min_princ_curv)\n",
    "np.save('K_2.npy', max_princ_curv)\n",
    "np.save('vertices.npy', verts)\n",
    "np.save('triangles.npy', triangs)"
   ]
  }
 ],
 "metadata": {
  "kernelspec": {
   "display_name": "Python 3",
   "language": "python",
   "name": "python3"
  },
  "language_info": {
   "codemirror_mode": {
    "name": "ipython",
    "version": 3
   },
   "file_extension": ".py",
   "mimetype": "text/x-python",
   "name": "python",
   "nbconvert_exporter": "python",
   "pygments_lexer": "ipython3",
   "version": "3.5.2"
  },
  "toc": {
   "base_numbering": 1,
   "nav_menu": {},
   "number_sections": true,
   "sideBar": true,
   "skip_h1_title": false,
   "title_cell": "Table of Contents",
   "title_sidebar": "Contents",
   "toc_cell": false,
   "toc_position": {},
   "toc_section_display": true,
   "toc_window_display": false
  }
 },
 "nbformat": 4,
 "nbformat_minor": 2
}
